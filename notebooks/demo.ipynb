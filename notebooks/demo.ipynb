{
 "cells": [
  {
   "cell_type": "code",
   "execution_count": null,
   "metadata": {},
   "outputs": [],
   "source": [
    "# Add relevant Jupyter notebook extensions \n",
    "%load_ext autoreload\n",
    "%autoreload 2"
   ]
  },
  {
   "cell_type": "code",
   "execution_count": null,
   "metadata": {},
   "outputs": [],
   "source": [
    "# You can double-check your Python path like this...\n",
    "import sys  \n",
    "print(sys.path)"
   ]
  },
  {
   "cell_type": "markdown",
   "metadata": {},
   "source": [
    "# Simulate closed-loop\n",
    "After implementing your control functionality, you can simulate the closed-loop with code that looks something like this..."
   ]
  },
  {
   "cell_type": "code",
   "execution_count": null,
   "metadata": {},
   "outputs": [],
   "source": [
    "# Import relevant modules\n",
    "from uuv_mission import Submarine, ClosedLoop, Mission, controller\n",
    "\n",
    "sub = Submarine()\n",
    "# Instantiate your controller (depending on your implementation)\n",
    "closed_loop = ClosedLoop(sub, controller)\n",
    "mission = Mission.from_csv(\"mission.csv\")\n",
    "\n",
    "trajectory = closed_loop.simulate_with_random_disturbances(mission)\n",
    "trajectory.plot_completed_mission(mission)"
   ]
  }
 ],
 "metadata": {
  "kernelspec": {
   "display_name": "Python 3",
   "language": "python",
   "name": "python3"
  },
  "language_info": {
   "codemirror_mode": {
    "name": "ipython",
    "version": 3
   },
   "file_extension": ".py",
   "mimetype": "text/x-python",
   "name": "python",
   "nbconvert_exporter": "python",
   "pygments_lexer": "ipython3",
   "version": "3.12.4"
  }
 },
 "nbformat": 4,
 "nbformat_minor": 2
}
